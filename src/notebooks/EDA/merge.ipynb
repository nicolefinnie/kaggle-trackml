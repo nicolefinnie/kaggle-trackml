{
 "cells": [
  {
   "cell_type": "code",
   "execution_count": 1,
   "metadata": {},
   "outputs": [],
   "source": [
    "import os\n",
    "import sys\n",
    "\n",
    "import numpy as np\n",
    "import pandas as pd\n",
    "import math\n",
    "\n",
    "from trackml.dataset import load_event\n",
    "from trackml.randomize import shuffle_hits\n",
    "from trackml.score import score_event\n",
    "\n",
    "sys.path.append(\"../..\")\n",
    "import merge as merge\n"
   ]
  },
  {
   "cell_type": "code",
   "execution_count": 2,
   "metadata": {},
   "outputs": [],
   "source": [
    "TRAIN_PATH = '../../../input/train_1'\n",
    "CSV_PATH = '../../good_csvs/'\n",
    "event_id = 1003\n",
    "CSV_FILENAME_PREFIX = 'event_' + str(event_id) + '_labels_train_'\n",
    "CSV_HELIX1 = CSV_PATH + CSV_FILENAME_PREFIX + 'helix1.csv'\n",
    "CSV_HELIX2 = CSV_PATH + CSV_FILENAME_PREFIX + 'helix2.csv'\n",
    "CSV_HELIX3 = CSV_PATH + CSV_FILENAME_PREFIX + 'helix3.csv'\n",
    "CSV_HELIX4 = CSV_PATH + CSV_FILENAME_PREFIX + 'helix4.csv'\n",
    "CSV_HELIX5 = CSV_PATH + CSV_FILENAME_PREFIX + 'helix5.csv'\n",
    "CSV_HELIX6 = CSV_PATH + CSV_FILENAME_PREFIX + 'helix6.csv'"
   ]
  },
  {
   "cell_type": "code",
   "execution_count": 3,
   "metadata": {},
   "outputs": [
    {
     "name": "stdout",
     "output_type": "stream",
     "text": [
      "event000001003 memory usage 15.95 MB\n"
     ]
    }
   ],
   "source": [
    "\n",
    "event_prefix = 'event00000' + str(event_id)\n",
    "hits, cells, particles, truth = load_event(os.path.join(TRAIN_PATH, event_prefix))\n",
    "\n",
    "mem_bytes = (hits.memory_usage(index=True).sum() \n",
    "             + cells.memory_usage(index=True).sum() \n",
    "             + particles.memory_usage(index=True).sum() \n",
    "             + truth.memory_usage(index=True).sum())\n",
    "print('{} memory usage {:.2f} MB'.format(event_prefix, mem_bytes / 2**20))"
   ]
  },
  {
   "cell_type": "code",
   "execution_count": 4,
   "metadata": {},
   "outputs": [],
   "source": [
    "labels_helix1 = pd.read_csv(CSV_HELIX1).label.values\n",
    "labels_helix2 = pd.read_csv(CSV_HELIX2).label.values\n",
    "labels_helix3 = pd.read_csv(CSV_HELIX3).label.values\n",
    "#labels_helix4 = pd.read_csv(CSV_HELIX4).label.values\n",
    "#labels_helix5 = pd.read_csv(CSV_HELIX5).label.values\n",
    "#labels_helix6 = pd.read_csv(CSV_HELIX6).label.values"
   ]
  },
  {
   "cell_type": "code",
   "execution_count": 5,
   "metadata": {},
   "outputs": [],
   "source": [
    "def create_one_event_submission(event_id, hits, labels):\n",
    "    sub_data = np.column_stack(([event_id]*len(hits), hits.hit_id.values, labels))\n",
    "    submission = pd.DataFrame(data=sub_data, columns=[\"event_id\", \"hit_id\", \"track_id\"]).astype(int)\n",
    "    return submission\n"
   ]
  },
  {
   "cell_type": "code",
   "execution_count": 6,
   "metadata": {},
   "outputs": [
    {
     "name": "stdout",
     "output_type": "stream",
     "text": [
      "Total removed due to bad volumes: 0\n",
      "Total removed due to bad dimensions: 0\n",
      "Total removed due to duplicate zs: 268\n",
      "Total removed due to bad slopes: 955\n",
      "Total removed small tracks (<2) hits: 13698\n",
      "Total removed due to bad volumes: 0\n",
      "Total removed due to bad dimensions: 0\n",
      "Total removed due to duplicate zs: 337\n",
      "Total removed due to bad slopes: 710\n",
      "Total removed small tracks (<2) hits: 14817\n",
      "Total removed due to bad volumes: 0\n",
      "Total removed due to bad dimensions: 0\n",
      "Total removed due to duplicate zs: 503\n",
      "Total removed due to bad slopes: 798\n",
      "Total removed small tracks (<2) hits: 15156\n"
     ]
    }
   ],
   "source": [
    "labels_helix1_filter = merge.remove_outliers(labels_helix1, hits, print_counts=True)\n",
    "labels_helix2_filter = merge.remove_outliers(labels_helix2, hits, print_counts=True)\n",
    "labels_helix3_filter = merge.remove_outliers(labels_helix3, hits, print_counts=True)\n",
    "#labels_helix4_filter = merge.remove_outliers(labels_helix4, hits, print_counts=True)\n",
    "#labels_helix5_filter = merge.remove_outliers(labels_helix5, hits, print_counts=True)\n",
    "#labels_helix6_filter = merge.remove_outliers(labels_helix6, hits, print_counts=True)"
   ]
  },
  {
   "cell_type": "code",
   "execution_count": 7,
   "metadata": {},
   "outputs": [
    {
     "name": "stdout",
     "output_type": "stream",
     "text": [
      "Simple replacement of unclassified hits: 472\n",
      "Similar tracks (no-op): 6048\n",
      "Multiple non-trivial tracks: 4587\n",
      "--> of which partial track ID 0 hits were updated: 2300\n",
      "--> of which partial track ID non-0 hits were updated: 5913\n",
      "Tracks to be lengthened: 2706\n",
      "--> of which track ID 0 hits were updated: 3102\n",
      "--> of which labels2 unique track lengths were: [ 2  3  4  5  6  7  8  9 10 11 12 13 14 15 16 17 18 20 23]\n",
      "Simple replacement of unclassified hits: 216\n",
      "Similar tracks (no-op): 5819\n",
      "Multiple non-trivial tracks: 5430\n",
      "--> of which partial track ID 0 hits were updated: 1866\n",
      "--> of which partial track ID non-0 hits were updated: 4488\n",
      "Tracks to be lengthened: 1934\n",
      "--> of which track ID 0 hits were updated: 2037\n",
      "--> of which labels2 unique track lengths were: [ 2  3  4  5  6  7  8  9 10 11 12 13 14 15 16 17]\n",
      "Merged score for event 1003: 0.63221879\n"
     ]
    }
   ],
   "source": [
    "labels_merged = merge.heuristic_merge_tracks(labels_helix1_filter, labels_helix2_filter)\n",
    "labels_merged = merge.heuristic_merge_tracks(labels_merged, labels_helix3_filter)\n",
    "#labels_merged = merge.heuristic_merge_tracks(labels_merged, labels_helix4_filter)\n",
    "#labels_merged = merge.heuristic_merge_tracks(labels_merged, labels_helix5_filter)\n",
    "#labels_merged = merge.heuristic_merge_tracks(labels_merged, labels_helix6_filter)\n",
    "one_submission = create_one_event_submission(event_id, hits, labels_merged)\n",
    "score = score_event(truth, one_submission)\n",
    "print(\"Merged score for event %d: %.8f\" % (event_id, score))"
   ]
  },
  {
   "cell_type": "code",
   "execution_count": null,
   "metadata": {},
   "outputs": [],
   "source": []
  }
 ],
 "metadata": {
  "kernelspec": {
   "display_name": "Python 3",
   "language": "python",
   "name": "python3"
  },
  "language_info": {
   "codemirror_mode": {
    "name": "ipython",
    "version": 3
   },
   "file_extension": ".py",
   "mimetype": "text/x-python",
   "name": "python",
   "nbconvert_exporter": "python",
   "pygments_lexer": "ipython3",
   "version": "3.6.5"
  }
 },
 "nbformat": 4,
 "nbformat_minor": 2
}

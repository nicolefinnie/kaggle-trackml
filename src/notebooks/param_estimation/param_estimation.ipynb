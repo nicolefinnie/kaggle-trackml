{
 "cells": [
  {
   "cell_type": "markdown",
   "metadata": {},
   "source": [
    "## Using a CNN to estimate track parameters"
   ]
  },
  {
   "cell_type": "code",
   "execution_count": 1,
   "metadata": {},
   "outputs": [
    {
     "name": "stdout",
     "output_type": "stream",
     "text": [
      "/anaconda3/envs/trackml/bin/python\n"
     ]
    },
    {
     "name": "stderr",
     "output_type": "stream",
     "text": [
      "Using TensorFlow backend.\n"
     ]
    }
   ],
   "source": [
    "# Standard imports\n",
    "import sys\n",
    "print(sys.executable)\n",
    "# Package imports\n",
    "import numpy as np\n",
    "np.random.seed(2341)\n",
    "\n",
    "import matplotlib.pyplot as plt\n",
    "%matplotlib inline\n",
    "\n",
    "from keras import models, layers\n",
    "from keras.preprocessing.sequence import pad_sequences\n",
    "\n",
    "\n",
    "from drawing import draw_event, draw_input_and_pred"
   ]
  },
  {
   "cell_type": "markdown",
   "metadata": {},
   "source": [
    "### Configuration"
   ]
  },
  {
   "cell_type": "code",
   "execution_count": 2,
   "metadata": {},
   "outputs": [],
   "source": [
    "# Training parameters\n",
    "batch_size = 256\n",
    "epoch_size = 256000\n",
    "num_epochs = 30\n",
    "\n",
    "# Data parameters\n",
    "det_width = 50\n",
    "det_depth = 50\n",
    "det_shape = (det_width, det_depth)\n",
    "\n",
    "# Scale track slopes up so that slopes and intercepts receive equal weights in the loss function.\n",
    "slope_scale = det_width/2\n",
    "\n",
    "# Number of tracks in each event follows Poisson distribution\n",
    "mean_tracks = 3\n",
    "max_tracks = 6"
   ]
  },
  {
   "cell_type": "markdown",
   "metadata": {},
   "source": [
    "### Functions for toy data generation"
   ]
  },
  {
   "cell_type": "code",
   "execution_count": 3,
   "metadata": {},
   "outputs": [],
   "source": [
    "def simulate_straight_track(m, b, det_shape):\n",
    "    \"\"\"\n",
    "    Simulate detector data for one straight track.\n",
    "    Parameters:\n",
    "        m: track slope parameter\n",
    "        b: track first-layer intercept parameter (detector entry point)\n",
    "        det_shape: tuple of detector shape: (depth, width)\n",
    "    Returns:\n",
    "        ndarray of binary detector data for one track.\n",
    "    \"\"\"\n",
    "    x = np.zeros(det_shape)\n",
    "    idx = np.arange(det_shape[0])\n",
    "    hits = (idx*m + b).astype(int)\n",
    "    valid = (hits > 0) & (hits < det_shape[1])\n",
    "    x[idx[valid], hits[valid]] = 1\n",
    "    return x\n",
    "\n",
    "# Generator for single-track events\n",
    "def gen_tracks(batch_size=batch_size, det_shape=det_shape):\n",
    "    \"\"\"Arguments: \n",
    "         batch_size: number of events to yield for each call\n",
    "       Yields: batches of training data for use with the keras fit_generator function\n",
    "    \"\"\"\n",
    "    while True:\n",
    "        # Entry and exit points are randomized\n",
    "        bs = np.random.random_sample(size=batch_size)*det_width\n",
    "        b2s = np.random.random_sample(size=batch_size)*det_width\n",
    "        ms = (b2s-bs)/det_depth*slope_scale # scaled slope\n",
    "        tracks = np.zeros((batch_size, 1, det_depth, det_width))\n",
    "        targets = []\n",
    "        \n",
    "        for i, (b, m) in enumerate(zip(bs, ms)):\n",
    "            tracks[i,0] = simulate_straight_track(m/slope_scale, b, det_shape)\n",
    "            targets.append((b,m))\n",
    "        yield tracks, targets\n",
    "        \n",
    "# Generator for multi-track events.\n",
    "# Each event contains exactly n_tracks tracks.\n",
    "# The target track parameters are sorted in increasing order of intercept.\n",
    "def gen_n_tracks(batch_size=batch_size, det_shape=det_shape, n_tracks=mean_tracks):\n",
    "    gen_single = gen_tracks(batch_size=n_tracks, det_shape=det_shape)\n",
    "    while True:\n",
    "        batch_events = np.zeros((batch_size, 1, det_depth, det_width))\n",
    "        batch_targets = -np.ones((batch_size, n_tracks, 2))\n",
    "        for n in range(batch_size):\n",
    "            tracks,targets = next(gen_single)\n",
    "            batch_events[n,0] = np.clip( sum( tracks ), 0, 1)\n",
    "            event_targets = np.asarray(targets)\n",
    "            batch_targets[n] = event_targets[event_targets[:,0].argsort()] # sort by first column\n",
    "        yield batch_events, batch_targets\n",
    "        \n",
    "# Generator for multi-track events.\n",
    "# Each event contains up to max_tracks tracks.\n",
    "# The target track parameters are sorted in increasing order of intercept.\n",
    "def gen_multi_tracks(batch_size=batch_size, det_shape=det_shape, mean_tracks=mean_tracks):\n",
    "    gen_single = gen_tracks(batch_size=max_tracks, det_shape=det_shape)\n",
    "    while True:\n",
    "        batch_events = np.zeros((batch_size, 1, det_depth, det_width))\n",
    "        batch_targets = -np.ones((batch_size, max_tracks, 2))\n",
    "        for n in range(batch_size):\n",
    "            num_tracks = min( max_tracks, np.random.poisson(mean_tracks) )\n",
    "            # NF FIXME\n",
    "            num_tracks = max(1, num_tracks)\n",
    "            tracks,targets = next(gen_single)\n",
    "            batch_events[n,0] = np.clip( sum( tracks[:num_tracks] ), 0, 1)\n",
    "            event_targets = np.asarray(targets[:num_tracks])\n",
    "            \n",
    "            batch_targets[n,:num_tracks] = event_targets[event_targets[:,0].argsort()] # sort by first column\n",
    "        yield batch_events, batch_targets"
   ]
  },
  {
   "cell_type": "markdown",
   "metadata": {},
   "source": [
    "### Test the multi-track generator"
   ]
  },
  {
   "cell_type": "code",
   "execution_count": 5,
   "metadata": {},
   "outputs": [
    {
     "name": "stdout",
     "output_type": "stream",
     "text": [
      "[[ 18.16588917   8.59550869]\n",
      " [ 49.7126792  -19.06961966]\n",
      " [ -1.          -1.        ]\n",
      " [ -1.          -1.        ]\n",
      " [ -1.          -1.        ]\n",
      " [ -1.          -1.        ]]\n"
     ]
    },
    {
     "data": {
      "image/png": "[encoded data removed]",
      "text/plain": [
       "<Figure size 432x288 with 1 Axes>"
      ]
     },
     "metadata": {},
     "output_type": "display_data"
    }
   ],
   "source": [
    "g = gen_multi_tracks()\n",
    "tracks, targets = next(g)\n",
    "draw_event(tracks[0,0])\n",
    "print(targets[0])"
   ]
  },
  {
   "cell_type": "markdown",
   "metadata": {},
   "source": [
    "### Generate a fixed dataset of multi-track events"
   ]
  },
  {
   "cell_type": "code",
   "execution_count": 6,
   "metadata": {},
   "outputs": [],
   "source": [
    "epoch_size = 51200\n",
    "gen_single = gen_tracks(batch_size=max_tracks, det_shape=det_shape)\n",
    "\n",
    "train_events = np.zeros((epoch_size, 1, det_depth, det_width))\n",
    "train_targets = -99 * np.ones((epoch_size, max_tracks, 2))\n",
    "train_weights = np.zeros((epoch_size, max_tracks))\n",
    "for n in range(epoch_size):\n",
    "    num_tracks = min( max_tracks, np.random.poisson(mean_tracks) )\n",
    "    # NF FIXME\n",
    "    num_tracks = max(1, num_tracks)\n",
    "    tracks,targets = next(gen_single)\n",
    "    train_events[n,0] = np.clip( sum( tracks[:num_tracks] ), 0, 1)\n",
    "    event_targets = np.asarray(targets[:num_tracks])\n",
    "    train_targets[n,:num_tracks] = event_targets[event_targets[:,0].argsort()] # sort by first column\n",
    "    train_weights[n,:num_tracks] = np.ones((num_tracks))"
   ]
  },
  {
   "cell_type": "code",
   "execution_count": 11,
   "metadata": {},
   "outputs": [
    {
     "name": "stdout",
     "output_type": "stream",
     "text": [
      "[[  2.92073213  20.85346895]\n",
      " [ 23.98241281 -10.69998031]\n",
      " [ 41.22988567 -10.33449398]\n",
      " [ 48.34189249 -17.76373935]\n",
      " [-99.         -99.        ]\n",
      " [-99.         -99.        ]]\n",
      "[ 1.  1.  1.  1.  0.  0.]\n"
     ]
    },
    {
     "data": {
      "image/png": "[encoded data removed]",
      "text/plain": [
       "<Figure size 432x288 with 1 Axes>"
      ]
     },
     "metadata": {},
     "output_type": "display_data"
    }
   ],
   "source": [
    "# Check the training data\n",
    "test_index = np.random.randint(epoch_size)\n",
    "draw_event(train_events[test_index,0])\n",
    "print (train_targets[test_index])\n",
    "print (train_weights[test_index])"
   ]
  },
  {
   "cell_type": "markdown",
   "metadata": {},
   "source": [
    "### Build and train CNN + LSTM model"
   ]
  },
  {
   "cell_type": "code",
   "execution_count": 12,
   "metadata": {},
   "outputs": [],
   "source": [
    "# Model\n",
    "def build_model_1():\n",
    "    \"\"\"Test model.  Consists of several convolutional layers followed by dense layers and an LSTM\"\"\"\n",
    "    input_layer = layers.Input(shape=(1,det_depth, det_width))\n",
    "    layer = layers.Conv2D(8, (3, 3), padding='same')(input_layer)\n",
    "    layer = layers.Activation('relu')(layer)\n",
    "    layer = layers.Conv2D(8, (3, 3), padding='same')(layer)\n",
    "    layer = layers.Activation('relu')(layer)\n",
    "    layer = layers.MaxPooling2D(pool_size=(2,2), data_format=\"channels_first\")(layer)\n",
    "    layer = layers.Conv2D(32, (3, 3), padding='same')(layer)\n",
    "    layer = layers.Activation('relu')(layer)\n",
    "    layer = layers.Conv2D(32, (3, 3), padding='same')(layer)\n",
    "    layer = layers.Activation('relu')(layer)\n",
    "    layer = layers.Flatten()(layer)\n",
    "    layer = layers.Dense(400)(layer)\n",
    "    layer = layers.RepeatVector(mean_tracks)(layer)\n",
    "    layer = layers.LSTM(400, return_sequences=True)(layer)\n",
    "    output_layer = layers.TimeDistributed(layers.Dense(2))(layer)\n",
    "    model = models.Model(inputs=input_layer, outputs=output_layer)\n",
    "    model.compile(loss='mean_squared_error', optimizer='Adam')\n",
    "    \n",
    "    return model"
   ]
  },
  {
   "cell_type": "code",
   "execution_count": 13,
   "metadata": {},
   "outputs": [
    {
     "name": "stdout",
     "output_type": "stream",
     "text": [
      "_________________________________________________________________\n",
      "Layer (type)                 Output Shape              Param #   \n",
      "=================================================================\n",
      "input_1 (InputLayer)         (None, 1, 50, 50)         0         \n",
      "_________________________________________________________________\n",
      "conv2d_1 (Conv2D)            (None, 1, 50, 8)          3608      \n",
      "_________________________________________________________________\n",
      "activation_1 (Activation)    (None, 1, 50, 8)          0         \n",
      "_________________________________________________________________\n",
      "conv2d_2 (Conv2D)            (None, 1, 50, 8)          584       \n",
      "_________________________________________________________________\n",
      "activation_2 (Activation)    (None, 1, 50, 8)          0         \n",
      "_________________________________________________________________\n",
      "max_pooling2d_1 (MaxPooling2 (None, 1, 25, 4)          0         \n",
      "_________________________________________________________________\n",
      "conv2d_3 (Conv2D)            (None, 1, 25, 32)         1184      \n",
      "_________________________________________________________________\n",
      "activation_3 (Activation)    (None, 1, 25, 32)         0         \n",
      "_________________________________________________________________\n",
      "conv2d_4 (Conv2D)            (None, 1, 25, 32)         9248      \n",
      "_________________________________________________________________\n",
      "activation_4 (Activation)    (None, 1, 25, 32)         0         \n",
      "_________________________________________________________________\n",
      "flatten_1 (Flatten)          (None, 800)               0         \n",
      "_________________________________________________________________\n",
      "dense_1 (Dense)              (None, 400)               320400    \n",
      "_________________________________________________________________\n",
      "repeat_vector_1 (RepeatVecto (None, 3, 400)            0         \n",
      "_________________________________________________________________\n",
      "lstm_1 (LSTM)                (None, 3, 400)            1281600   \n",
      "_________________________________________________________________\n",
      "time_distributed_1 (TimeDist (None, 3, 2)              802       \n",
      "=================================================================\n",
      "Total params: 1,617,426\n",
      "Trainable params: 1,617,426\n",
      "Non-trainable params: 0\n",
      "_________________________________________________________________\n",
      "Epoch 1/10\n",
      "  330/51200 [..............................] - ETA: 2:27:32 - loss: 75.0785"
     ]
    },
    {
     "ename": "KeyboardInterrupt",
     "evalue": "",
     "output_type": "error",
     "traceback": [
      "\u001b[0;31m---------------------------------------------------------------------------\u001b[0m",
      "\u001b[0;31mKeyboardInterrupt\u001b[0m                         Traceback (most recent call last)",
      "\u001b[0;32m<timed eval>\u001b[0m in \u001b[0;36m<module>\u001b[0;34m()\u001b[0m\n",
      "\u001b[0;32m/anaconda3/envs/trackml/lib/python3.6/site-packages/keras/legacy/interfaces.py\u001b[0m in \u001b[0;36mwrapper\u001b[0;34m(*args, **kwargs)\u001b[0m\n\u001b[1;32m     89\u001b[0m                 warnings.warn('Update your `' + object_name +\n\u001b[1;32m     90\u001b[0m                               '` call to the Keras 2 API: ' + signature, stacklevel=2)\n\u001b[0;32m---> 91\u001b[0;31m             \u001b[0;32mreturn\u001b[0m \u001b[0mfunc\u001b[0m\u001b[0;34m(\u001b[0m\u001b[0;34m*\u001b[0m\u001b[0margs\u001b[0m\u001b[0;34m,\u001b[0m \u001b[0;34m**\u001b[0m\u001b[0mkwargs\u001b[0m\u001b[0;34m)\u001b[0m\u001b[0;34m\u001b[0m\u001b[0m\n\u001b[0m\u001b[1;32m     92\u001b[0m         \u001b[0mwrapper\u001b[0m\u001b[0;34m.\u001b[0m\u001b[0m_original_function\u001b[0m \u001b[0;34m=\u001b[0m \u001b[0mfunc\u001b[0m\u001b[0;34m\u001b[0m\u001b[0m\n\u001b[1;32m     93\u001b[0m         \u001b[0;32mreturn\u001b[0m \u001b[0mwrapper\u001b[0m\u001b[0;34m\u001b[0m\u001b[0m\n",
      "\u001b[0;32m/anaconda3/envs/trackml/lib/python3.6/site-packages/keras/engine/training.py\u001b[0m in \u001b[0;36mfit_generator\u001b[0;34m(self, generator, steps_per_epoch, epochs, verbose, callbacks, validation_data, validation_steps, class_weight, max_queue_size, workers, use_multiprocessing, shuffle, initial_epoch)\u001b[0m\n\u001b[1;32m   2222\u001b[0m                     outs = self.train_on_batch(x, y,\n\u001b[1;32m   2223\u001b[0m                                                \u001b[0msample_weight\u001b[0m\u001b[0;34m=\u001b[0m\u001b[0msample_weight\u001b[0m\u001b[0;34m,\u001b[0m\u001b[0;34m\u001b[0m\u001b[0m\n\u001b[0;32m-> 2224\u001b[0;31m                                                class_weight=class_weight)\n\u001b[0m\u001b[1;32m   2225\u001b[0m \u001b[0;34m\u001b[0m\u001b[0m\n\u001b[1;32m   2226\u001b[0m                     \u001b[0;32mif\u001b[0m \u001b[0;32mnot\u001b[0m \u001b[0misinstance\u001b[0m\u001b[0;34m(\u001b[0m\u001b[0mouts\u001b[0m\u001b[0;34m,\u001b[0m \u001b[0mlist\u001b[0m\u001b[0;34m)\u001b[0m\u001b[0;34m:\u001b[0m\u001b[0;34m\u001b[0m\u001b[0m\n",
      "\u001b[0;32m/anaconda3/envs/trackml/lib/python3.6/site-packages/keras/engine/training.py\u001b[0m in \u001b[0;36mtrain_on_batch\u001b[0;34m(self, x, y, sample_weight, class_weight)\u001b[0m\n\u001b[1;32m   1881\u001b[0m             \u001b[0mins\u001b[0m \u001b[0;34m=\u001b[0m \u001b[0mx\u001b[0m \u001b[0;34m+\u001b[0m \u001b[0my\u001b[0m \u001b[0;34m+\u001b[0m \u001b[0msample_weights\u001b[0m\u001b[0;34m\u001b[0m\u001b[0m\n\u001b[1;32m   1882\u001b[0m         \u001b[0mself\u001b[0m\u001b[0;34m.\u001b[0m\u001b[0m_make_train_function\u001b[0m\u001b[0;34m(\u001b[0m\u001b[0;34m)\u001b[0m\u001b[0;34m\u001b[0m\u001b[0m\n\u001b[0;32m-> 1883\u001b[0;31m         \u001b[0moutputs\u001b[0m \u001b[0;34m=\u001b[0m \u001b[0mself\u001b[0m\u001b[0;34m.\u001b[0m\u001b[0mtrain_function\u001b[0m\u001b[0;34m(\u001b[0m\u001b[0mins\u001b[0m\u001b[0;34m)\u001b[0m\u001b[0;34m\u001b[0m\u001b[0m\n\u001b[0m\u001b[1;32m   1884\u001b[0m         \u001b[0;32mif\u001b[0m \u001b[0mlen\u001b[0m\u001b[0;34m(\u001b[0m\u001b[0moutputs\u001b[0m\u001b[0;34m)\u001b[0m \u001b[0;34m==\u001b[0m \u001b[0;36m1\u001b[0m\u001b[0;34m:\u001b[0m\u001b[0;34m\u001b[0m\u001b[0m\n\u001b[1;32m   1885\u001b[0m             \u001b[0;32mreturn\u001b[0m \u001b[0moutputs\u001b[0m\u001b[0;34m[\u001b[0m\u001b[0;36m0\u001b[0m\u001b[0;34m]\u001b[0m\u001b[0;34m\u001b[0m\u001b[0m\n",
      "\u001b[0;32m/anaconda3/envs/trackml/lib/python3.6/site-packages/keras/backend/tensorflow_backend.py\u001b[0m in \u001b[0;36m__call__\u001b[0;34m(self, inputs)\u001b[0m\n\u001b[1;32m   2476\u001b[0m         \u001b[0msession\u001b[0m \u001b[0;34m=\u001b[0m \u001b[0mget_session\u001b[0m\u001b[0;34m(\u001b[0m\u001b[0;34m)\u001b[0m\u001b[0;34m\u001b[0m\u001b[0m\n\u001b[1;32m   2477\u001b[0m         updated = session.run(fetches=fetches, feed_dict=feed_dict,\n\u001b[0;32m-> 2478\u001b[0;31m                               **self.session_kwargs)\n\u001b[0m\u001b[1;32m   2479\u001b[0m         \u001b[0;32mreturn\u001b[0m \u001b[0mupdated\u001b[0m\u001b[0;34m[\u001b[0m\u001b[0;34m:\u001b[0m\u001b[0mlen\u001b[0m\u001b[0;34m(\u001b[0m\u001b[0mself\u001b[0m\u001b[0;34m.\u001b[0m\u001b[0moutputs\u001b[0m\u001b[0;34m)\u001b[0m\u001b[0;34m]\u001b[0m\u001b[0;34m\u001b[0m\u001b[0m\n\u001b[1;32m   2480\u001b[0m \u001b[0;34m\u001b[0m\u001b[0m\n",
      "\u001b[0;32m/anaconda3/envs/trackml/lib/python3.6/site-packages/tensorflow/python/client/session.py\u001b[0m in \u001b[0;36mrun\u001b[0;34m(self, fetches, feed_dict, options, run_metadata)\u001b[0m\n\u001b[1;32m    776\u001b[0m     \u001b[0;32mtry\u001b[0m\u001b[0;34m:\u001b[0m\u001b[0;34m\u001b[0m\u001b[0m\n\u001b[1;32m    777\u001b[0m       result = self._run(None, fetches, feed_dict, options_ptr,\n\u001b[0;32m--> 778\u001b[0;31m                          run_metadata_ptr)\n\u001b[0m\u001b[1;32m    779\u001b[0m       \u001b[0;32mif\u001b[0m \u001b[0mrun_metadata\u001b[0m\u001b[0;34m:\u001b[0m\u001b[0;34m\u001b[0m\u001b[0m\n\u001b[1;32m    780\u001b[0m         \u001b[0mproto_data\u001b[0m \u001b[0;34m=\u001b[0m \u001b[0mtf_session\u001b[0m\u001b[0;34m.\u001b[0m\u001b[0mTF_GetBuffer\u001b[0m\u001b[0;34m(\u001b[0m\u001b[0mrun_metadata_ptr\u001b[0m\u001b[0;34m)\u001b[0m\u001b[0;34m\u001b[0m\u001b[0m\n",
      "\u001b[0;32m/anaconda3/envs/trackml/lib/python3.6/site-packages/tensorflow/python/client/session.py\u001b[0m in \u001b[0;36m_run\u001b[0;34m(self, handle, fetches, feed_dict, options, run_metadata)\u001b[0m\n\u001b[1;32m    980\u001b[0m     \u001b[0;32mif\u001b[0m \u001b[0mfinal_fetches\u001b[0m \u001b[0;32mor\u001b[0m \u001b[0mfinal_targets\u001b[0m\u001b[0;34m:\u001b[0m\u001b[0;34m\u001b[0m\u001b[0m\n\u001b[1;32m    981\u001b[0m       results = self._do_run(handle, final_targets, final_fetches,\n\u001b[0;32m--> 982\u001b[0;31m                              feed_dict_string, options, run_metadata)\n\u001b[0m\u001b[1;32m    983\u001b[0m     \u001b[0;32melse\u001b[0m\u001b[0;34m:\u001b[0m\u001b[0;34m\u001b[0m\u001b[0m\n\u001b[1;32m    984\u001b[0m       \u001b[0mresults\u001b[0m \u001b[0;34m=\u001b[0m \u001b[0;34m[\u001b[0m\u001b[0;34m]\u001b[0m\u001b[0;34m\u001b[0m\u001b[0m\n",
      "\u001b[0;32m/anaconda3/envs/trackml/lib/python3.6/site-packages/tensorflow/python/client/session.py\u001b[0m in \u001b[0;36m_do_run\u001b[0;34m(self, handle, target_list, fetch_list, feed_dict, options, run_metadata)\u001b[0m\n\u001b[1;32m   1030\u001b[0m     \u001b[0;32mif\u001b[0m \u001b[0mhandle\u001b[0m \u001b[0;32mis\u001b[0m \u001b[0;32mNone\u001b[0m\u001b[0;34m:\u001b[0m\u001b[0;34m\u001b[0m\u001b[0m\n\u001b[1;32m   1031\u001b[0m       return self._do_call(_run_fn, self._session, feed_dict, fetch_list,\n\u001b[0;32m-> 1032\u001b[0;31m                            target_list, options, run_metadata)\n\u001b[0m\u001b[1;32m   1033\u001b[0m     \u001b[0;32melse\u001b[0m\u001b[0;34m:\u001b[0m\u001b[0;34m\u001b[0m\u001b[0m\n\u001b[1;32m   1034\u001b[0m       return self._do_call(_prun_fn, self._session, handle, feed_dict,\n",
      "\u001b[0;32m/anaconda3/envs/trackml/lib/python3.6/site-packages/tensorflow/python/client/session.py\u001b[0m in \u001b[0;36m_do_call\u001b[0;34m(self, fn, *args)\u001b[0m\n\u001b[1;32m   1037\u001b[0m   \u001b[0;32mdef\u001b[0m \u001b[0m_do_call\u001b[0m\u001b[0;34m(\u001b[0m\u001b[0mself\u001b[0m\u001b[0;34m,\u001b[0m \u001b[0mfn\u001b[0m\u001b[0;34m,\u001b[0m \u001b[0;34m*\u001b[0m\u001b[0margs\u001b[0m\u001b[0;34m)\u001b[0m\u001b[0;34m:\u001b[0m\u001b[0;34m\u001b[0m\u001b[0m\n\u001b[1;32m   1038\u001b[0m     \u001b[0;32mtry\u001b[0m\u001b[0;34m:\u001b[0m\u001b[0;34m\u001b[0m\u001b[0m\n\u001b[0;32m-> 1039\u001b[0;31m       \u001b[0;32mreturn\u001b[0m \u001b[0mfn\u001b[0m\u001b[0;34m(\u001b[0m\u001b[0;34m*\u001b[0m\u001b[0margs\u001b[0m\u001b[0;34m)\u001b[0m\u001b[0;34m\u001b[0m\u001b[0m\n\u001b[0m\u001b[1;32m   1040\u001b[0m     \u001b[0;32mexcept\u001b[0m \u001b[0merrors\u001b[0m\u001b[0;34m.\u001b[0m\u001b[0mOpError\u001b[0m \u001b[0;32mas\u001b[0m \u001b[0me\u001b[0m\u001b[0;34m:\u001b[0m\u001b[0;34m\u001b[0m\u001b[0m\n\u001b[1;32m   1041\u001b[0m       \u001b[0mmessage\u001b[0m \u001b[0;34m=\u001b[0m \u001b[0mcompat\u001b[0m\u001b[0;34m.\u001b[0m\u001b[0mas_text\u001b[0m\u001b[0;34m(\u001b[0m\u001b[0me\u001b[0m\u001b[0;34m.\u001b[0m\u001b[0mmessage\u001b[0m\u001b[0;34m)\u001b[0m\u001b[0;34m\u001b[0m\u001b[0m\n",
      "\u001b[0;32m/anaconda3/envs/trackml/lib/python3.6/site-packages/tensorflow/python/client/session.py\u001b[0m in \u001b[0;36m_run_fn\u001b[0;34m(session, feed_dict, fetch_list, target_list, options, run_metadata)\u001b[0m\n\u001b[1;32m   1019\u001b[0m         return tf_session.TF_Run(session, options,\n\u001b[1;32m   1020\u001b[0m                                  \u001b[0mfeed_dict\u001b[0m\u001b[0;34m,\u001b[0m \u001b[0mfetch_list\u001b[0m\u001b[0;34m,\u001b[0m \u001b[0mtarget_list\u001b[0m\u001b[0;34m,\u001b[0m\u001b[0;34m\u001b[0m\u001b[0m\n\u001b[0;32m-> 1021\u001b[0;31m                                  status, run_metadata)\n\u001b[0m\u001b[1;32m   1022\u001b[0m \u001b[0;34m\u001b[0m\u001b[0m\n\u001b[1;32m   1023\u001b[0m     \u001b[0;32mdef\u001b[0m \u001b[0m_prun_fn\u001b[0m\u001b[0;34m(\u001b[0m\u001b[0msession\u001b[0m\u001b[0;34m,\u001b[0m \u001b[0mhandle\u001b[0m\u001b[0;34m,\u001b[0m \u001b[0mfeed_dict\u001b[0m\u001b[0;34m,\u001b[0m \u001b[0mfetch_list\u001b[0m\u001b[0;34m)\u001b[0m\u001b[0;34m:\u001b[0m\u001b[0;34m\u001b[0m\u001b[0m\n",
      "\u001b[0;31mKeyboardInterrupt\u001b[0m: "
     ]
    },
    {
     "ename": "NameError",
     "evalue": "name 'model_2' is not defined",
     "output_type": "error",
     "traceback": [
      "\u001b[0;31m---------------------------------------------------------------------------\u001b[0m",
      "\u001b[0;31mNameError\u001b[0m                                 Traceback (most recent call last)",
      "\u001b[0;32m<ipython-input-13-065668419070>\u001b[0m in \u001b[0;36m<module>\u001b[0;34m()\u001b[0m\n\u001b[1;32m      5\u001b[0m \u001b[0;31m# this is gonna take a long time if you don't have GPU, because the generator eats up CPU(generator, step_size, and epochs)\u001b[0m\u001b[0;34m\u001b[0m\u001b[0;34m\u001b[0m\u001b[0m\n\u001b[1;32m      6\u001b[0m \u001b[0mget_ipython\u001b[0m\u001b[0;34m(\u001b[0m\u001b[0;34m)\u001b[0m\u001b[0;34m.\u001b[0m\u001b[0mrun_line_magic\u001b[0m\u001b[0;34m(\u001b[0m\u001b[0;34m'time'\u001b[0m\u001b[0;34m,\u001b[0m \u001b[0;34m'model_1.fit_generator(train_generator, epoch_size, 10)'\u001b[0m\u001b[0;34m)\u001b[0m\u001b[0;34m\u001b[0m\u001b[0m\n\u001b[0;32m----> 7\u001b[0;31m \u001b[0mmodel_2\u001b[0m\u001b[0;34m.\u001b[0m\u001b[0mfit\u001b[0m\u001b[0;34m(\u001b[0m\u001b[0mtrain_events\u001b[0m\u001b[0;34m,\u001b[0m \u001b[0mtrain_targets\u001b[0m\u001b[0;34m,\u001b[0m \u001b[0mbatch_size\u001b[0m\u001b[0;34m=\u001b[0m\u001b[0mbatch_size\u001b[0m\u001b[0;34m,\u001b[0m \u001b[0mnb_epoch\u001b[0m\u001b[0;34m=\u001b[0m\u001b[0;36m10\u001b[0m\u001b[0;34m,\u001b[0m \u001b[0mvalidation_split\u001b[0m\u001b[0;34m=\u001b[0m\u001b[0;36m0.1\u001b[0m\u001b[0;34m,\u001b[0m \u001b[0msample_weight\u001b[0m\u001b[0;34m=\u001b[0m\u001b[0mtrain_weights\u001b[0m\u001b[0;34m)\u001b[0m\u001b[0;34m\u001b[0m\u001b[0m\n\u001b[0m",
      "\u001b[0;31mNameError\u001b[0m: name 'model_2' is not defined"
     ]
    }
   ],
   "source": [
    "# Train the model\n",
    "model_1 = build_model_1()\n",
    "model_1.summary()\n",
    "train_generator = gen_n_tracks()\n",
    "# this is gonna take a long time if you don't have GPU, because the generator eats up CPU(generator, step_size, and epochs)\n",
    "%time model_1.fit_generator(train_generator, epoch_size, 10)\n",
    "model_2.fit(train_events, train_targets, batch_size=batch_size, nb_epoch=10, validation_split=0.1, sample_weight=train_weights)"
   ]
  },
  {
   "cell_type": "markdown",
   "metadata": {},
   "source": [
    "### Visualize model predictions"
   ]
  },
  {
   "cell_type": "code",
   "execution_count": 14,
   "metadata": {},
   "outputs": [
    {
     "name": "stdout",
     "output_type": "stream",
     "text": [
      "[[  6.12049798   5.9763082 ]\n",
      " [ 13.77351897  12.80043281]\n",
      " [ 28.76215041  10.54338944]]\n",
      "[[  7.76871967   9.86675453]\n",
      " [ 13.96037006   9.83374023]\n",
      " [ 27.1605587    2.53309822]]\n"
     ]
    },
    {
     "data": {
      "image/png": "[encoded data removed]",
      "text/plain": [
       "<Figure size 648x288 with 2 Axes>"
      ]
     },
     "metadata": {},
     "output_type": "display_data"
    }
   ],
   "source": [
    "g = gen_n_tracks()\n",
    "test_data = next(g)\n",
    "test_event = test_data[0][0]\n",
    "test_target = test_data[1][0]\n",
    "test_pred = model_1.predict(np.asarray([test_event]))[0]\n",
    "print (test_target)\n",
    "print (test_pred)\n",
    "pred_event = np.clip(sum([ simulate_straight_track(line[1]/slope_scale, line[0], det_shape) for line in test_pred ]), 0, 1)\n",
    "draw_input_and_pred(test_event[0], pred_event)"
   ]
  },
  {
   "cell_type": "markdown",
   "metadata": {},
   "source": [
    "### Train on events with variable number of tracks"
   ]
  },
  {
   "cell_type": "code",
   "execution_count": 15,
   "metadata": {},
   "outputs": [],
   "source": [
    "# Model\n",
    "def build_model_2():\n",
    "    \"\"\"Test model.  Consists of several convolutional layers followed by dense layers and an LSTM\"\"\"\n",
    "    input_layer = layers.Input(shape=(1, det_depth, det_width))\n",
    "    layer = layers.Conv2D(8, (3, 3), padding='same')(input_layer)\n",
    "    layer = layers.Activation('relu')(layer)\n",
    "    layer = layers.Conv2D(8, (3, 3), padding='same')(layer)\n",
    "    layer = layers.Activation('relu')(layer)\n",
    "    layer = layers.MaxPooling2D(pool_size=(2,2), data_format=\"channels_first\")(layer)\n",
    "    layer = layers.Conv2D(32, (3, 3), padding='same')(layer)\n",
    "    layer = layers.Activation('relu')(layer)\n",
    "    layer = layers.Conv2D(32, (3, 3), padding='same')(layer)\n",
    "    layer = layers.Activation('relu')(layer)\n",
    "    layer = layers.Flatten()(layer) \n",
    "    layer = layers.Dense(400)(layer)\n",
    "    layer = layers.RepeatVector(max_tracks)(layer)\n",
    "    layer = layers.LSTM(400, return_sequences=True)(layer)\n",
    "    output_layer = layers.TimeDistributed(layers.Dense(2))(layer)\n",
    "    model = models.Model(input=input_layer, output=output_layer)\n",
    "    model.compile(loss='mean_squared_error', optimizer='Adam', sample_weight_mode=\"temporal\")\n",
    "    return model"
   ]
  },
  {
   "cell_type": "code",
   "execution_count": 16,
   "metadata": {},
   "outputs": [
    {
     "name": "stderr",
     "output_type": "stream",
     "text": [
      "/anaconda3/envs/trackml/lib/python3.6/site-packages/ipykernel_launcher.py:19: UserWarning: Update your `Model` call to the Keras 2 API: `Model(inputs=Tensor(\"in..., outputs=Tensor(\"ti...)`\n",
      "/anaconda3/envs/trackml/lib/python3.6/site-packages/ipykernel_launcher.py:4: UserWarning: The `nb_epoch` argument in `fit` has been renamed `epochs`.\n",
      "  after removing the cwd from sys.path.\n"
     ]
    },
    {
     "name": "stdout",
     "output_type": "stream",
     "text": [
      "_________________________________________________________________\n",
      "Layer (type)                 Output Shape              Param #   \n",
      "=================================================================\n",
      "input_2 (InputLayer)         (None, 1, 50, 50)         0         \n",
      "_________________________________________________________________\n",
      "conv2d_5 (Conv2D)            (None, 1, 50, 8)          3608      \n",
      "_________________________________________________________________\n",
      "activation_5 (Activation)    (None, 1, 50, 8)          0         \n",
      "_________________________________________________________________\n",
      "conv2d_6 (Conv2D)            (None, 1, 50, 8)          584       \n",
      "_________________________________________________________________\n",
      "activation_6 (Activation)    (None, 1, 50, 8)          0         \n",
      "_________________________________________________________________\n",
      "max_pooling2d_2 (MaxPooling2 (None, 1, 25, 4)          0         \n",
      "_________________________________________________________________\n",
      "conv2d_7 (Conv2D)            (None, 1, 25, 32)         1184      \n",
      "_________________________________________________________________\n",
      "activation_7 (Activation)    (None, 1, 25, 32)         0         \n",
      "_________________________________________________________________\n",
      "conv2d_8 (Conv2D)            (None, 1, 25, 32)         9248      \n",
      "_________________________________________________________________\n",
      "activation_8 (Activation)    (None, 1, 25, 32)         0         \n",
      "_________________________________________________________________\n",
      "flatten_2 (Flatten)          (None, 800)               0         \n",
      "_________________________________________________________________\n",
      "dense_3 (Dense)              (None, 400)               320400    \n",
      "_________________________________________________________________\n",
      "repeat_vector_2 (RepeatVecto (None, 6, 400)            0         \n",
      "_________________________________________________________________\n",
      "lstm_2 (LSTM)                (None, 6, 400)            1281600   \n",
      "_________________________________________________________________\n",
      "time_distributed_2 (TimeDist (None, 6, 2)              802       \n",
      "=================================================================\n",
      "Total params: 1,617,426\n",
      "Trainable params: 1,617,426\n",
      "Non-trainable params: 0\n",
      "_________________________________________________________________\n",
      "Train on 46080 samples, validate on 5120 samples\n",
      "Epoch 1/10\n",
      "46080/46080 [==============================] - 49s 1ms/step - loss: 116.4361 - val_loss: 64.4345\n",
      "Epoch 2/10\n",
      "46080/46080 [==============================] - 52s 1ms/step - loss: 51.9501 - val_loss: 43.5360\n",
      "Epoch 3/10\n",
      "46080/46080 [==============================] - 52s 1ms/step - loss: 40.3528 - val_loss: 37.2128\n",
      "Epoch 4/10\n",
      "46080/46080 [==============================] - 51s 1ms/step - loss: 36.0193 - val_loss: 33.9693\n",
      "Epoch 5/10\n",
      "46080/46080 [==============================] - 51s 1ms/step - loss: 30.2806 - val_loss: 25.5071\n",
      "Epoch 6/10\n",
      "46080/46080 [==============================] - 51s 1ms/step - loss: 23.3614 - val_loss: 20.8766\n",
      "Epoch 7/10\n",
      "46080/46080 [==============================] - 52s 1ms/step - loss: 20.2157 - val_loss: 19.1413\n",
      "Epoch 8/10\n",
      "46080/46080 [==============================] - 50s 1ms/step - loss: 18.7476 - val_loss: 19.6764\n",
      "Epoch 9/10\n",
      "46080/46080 [==============================] - 49s 1ms/step - loss: 17.8229 - val_loss: 17.3886\n",
      "Epoch 10/10\n",
      "46080/46080 [==============================] - 49s 1ms/step - loss: 16.9155 - val_loss: 16.2712\n"
     ]
    },
    {
     "data": {
      "text/plain": [
       "<keras.callbacks.History at 0x15fdac940>"
      ]
     },
     "execution_count": 16,
     "metadata": {},
     "output_type": "execute_result"
    }
   ],
   "source": [
    "# Train the model\n",
    "model_2 = build_model_2()\n",
    "model_2.summary()\n",
    "model_2.fit(train_events, train_targets, batch_size=batch_size, nb_epoch=10, validation_split=0.1, sample_weight=train_weights)"
   ]
  },
  {
   "cell_type": "code",
   "execution_count": 23,
   "metadata": {},
   "outputs": [
    {
     "name": "stderr",
     "output_type": "stream",
     "text": [
      "/anaconda3/envs/trackml/lib/python3.6/site-packages/ipykernel_launcher.py:1: UserWarning: The `nb_epoch` argument in `fit` has been renamed `epochs`.\n",
      "  \"\"\"Entry point for launching an IPython kernel.\n"
     ]
    },
    {
     "name": "stdout",
     "output_type": "stream",
     "text": [
      "Train on 46080 samples, validate on 5120 samples\n",
      "Epoch 1/10\n",
      "46080/46080 [==============================] - 47s 1ms/step - loss: 9.8500 - val_loss: 10.1213\n",
      "Epoch 2/10\n",
      "46080/46080 [==============================] - 49s 1ms/step - loss: 9.6523 - val_loss: 10.7010\n",
      "Epoch 3/10\n",
      "46080/46080 [==============================] - 49s 1ms/step - loss: 9.5183 - val_loss: 9.9287\n",
      "Epoch 4/10\n",
      "46080/46080 [==============================] - 49s 1ms/step - loss: 9.2851 - val_loss: 9.6319\n",
      "Epoch 5/10\n",
      "46080/46080 [==============================] - 49s 1ms/step - loss: 9.0918 - val_loss: 9.5965\n",
      "Epoch 6/10\n",
      "46080/46080 [==============================] - 50s 1ms/step - loss: 9.0579 - val_loss: 10.0849\n",
      "Epoch 7/10\n",
      "46080/46080 [==============================] - 50s 1ms/step - loss: 8.7562 - val_loss: 9.2107\n",
      "Epoch 8/10\n",
      "46080/46080 [==============================] - 50s 1ms/step - loss: 8.5795 - val_loss: 9.2028\n",
      "Epoch 9/10\n",
      "46080/46080 [==============================] - 50s 1ms/step - loss: 8.3916 - val_loss: 9.3819\n",
      "Epoch 10/10\n",
      "46080/46080 [==============================] - 50s 1ms/step - loss: 8.1615 - val_loss: 9.0168\n"
     ]
    },
    {
     "data": {
      "text/plain": [
       "<keras.callbacks.History at 0x15e3992b0>"
      ]
     },
     "execution_count": 23,
     "metadata": {},
     "output_type": "execute_result"
    }
   ],
   "source": [
    "model_2.fit(train_events, train_targets, batch_size=batch_size, nb_epoch=10, validation_split=0.1, sample_weight=train_weights)"
   ]
  },
  {
   "cell_type": "markdown",
   "metadata": {},
   "source": [
    "### Visualize prediction"
   ]
  },
  {
   "cell_type": "code",
   "execution_count": 27,
   "metadata": {},
   "outputs": [
    {
     "name": "stdout",
     "output_type": "stream",
     "text": [
      "[[  6.87244306  13.66172282]\n",
      " [ 13.82059334   1.48163046]\n",
      " [ 20.97074307   0.3881765 ]\n",
      " [ 23.94479202  -5.43169503]\n",
      " [ 30.26090504   3.95646294]\n",
      " [ 48.05010309  -1.35179219]]\n",
      "[[  8.13655853  11.52244854]\n",
      " [ 14.19422722   5.02745247]\n",
      " [ 19.2810688    0.5855943 ]\n",
      " [ 23.22237968  -4.08244562]\n",
      " [ 30.07831573   1.32927108]\n",
      " [ 44.67248535  -0.51130813]]\n"
     ]
    },
    {
     "data": {
      "image/png": "[encoded data removed]",
      "text/plain": [
       "<Figure size 648x288 with 2 Axes>"
      ]
     },
     "metadata": {},
     "output_type": "display_data"
    }
   ],
   "source": [
    "test_index = np.random.randint(epoch_size*0.9,epoch_size)\n",
    "test_event = train_events[test_index]\n",
    "test_weights = train_weights[test_index].astype(np.bool_)\n",
    "test_target = train_targets[test_index][test_weights]\n",
    "test_pred = model_2.predict(np.asarray([test_event]))[0][test_weights]\n",
    "print (test_target)\n",
    "print (test_pred)\n",
    "pred_event = np.clip(sum([simulate_straight_track(line[1]/slope_scale, line[0], det_shape) for line in test_pred ]), 0, 1)\n",
    "draw_input_and_pred(test_event[0], pred_event)"
   ]
  },
  {
   "cell_type": "code",
   "execution_count": 37,
   "metadata": {},
   "outputs": [
    {
     "name": "stdout",
     "output_type": "stream",
     "text": [
      "46976\n",
      "[[  9.64588999   7.31099978]\n",
      " [  9.75018102  14.76308988]\n",
      " [-99.         -99.        ]\n",
      " [-99.         -99.        ]\n",
      " [-99.         -99.        ]\n",
      " [-99.         -99.        ]]\n",
      "[ True  True False False False False]\n",
      "[[  9.64588999   7.31099978]\n",
      " [  9.75018102  14.76308988]]\n",
      "[[  7.94410419  13.96577358]\n",
      " [ 11.27180672   8.7650013 ]]\n"
     ]
    },
    {
     "data": {
      "image/png": "[encoded data removed]",
      "text/plain": [
       "<Figure size 648x288 with 2 Axes>"
      ]
     },
     "metadata": {},
     "output_type": "display_data"
    }
   ],
   "source": [
    "test_index = np.random.randint(epoch_size*0.9,epoch_size)\n",
    "print(test_index)\n",
    "test_event = train_events[test_index]\n",
    "test_weights = train_weights[test_index].astype(np.bool_)\n",
    "test_target = train_targets[test_index][test_weights]\n",
    "print(train_targets[test_index])\n",
    "print(test_weights)\n",
    "test_pred = model_2.predict(np.asarray([test_event]))[0][test_weights]\n",
    "print (test_target)\n",
    "print (test_pred)\n",
    "pred_event = np.clip(sum([simulate_straight_track(line[1]/slope_scale, line[0], det_shape) for line in test_pred ]), 0, 1)\n",
    "draw_input_and_pred(test_event[0], pred_event)"
   ]
  },
  {
   "cell_type": "code",
   "execution_count": null,
   "metadata": {},
   "outputs": [],
   "source": []
  },
  {
   "cell_type": "code",
   "execution_count": null,
   "metadata": {},
   "outputs": [],
   "source": []
  }
 ],
 "metadata": {
  "kernelspec": {
   "display_name": "Python 3",
   "language": "python",
   "name": "python3"
  },
  "language_info": {
   "codemirror_mode": {
    "name": "ipython",
    "version": 3
   },
   "file_extension": ".py",
   "mimetype": "text/x-python",
   "name": "python",
   "nbconvert_exporter": "python",
   "pygments_lexer": "ipython3",
   "version": "3.6.5"
  }
 },
 "nbformat": 4,
 "nbformat_minor": 1
}
